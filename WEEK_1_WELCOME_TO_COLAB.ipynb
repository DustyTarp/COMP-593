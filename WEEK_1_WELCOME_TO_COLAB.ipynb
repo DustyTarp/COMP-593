{
  "nbformat": 4,
  "nbformat_minor": 0,
  "metadata": {
    "colab": {
      "name": "WEEK 1 WELCOME TO COLAB",
      "provenance": [],
      "collapsed_sections": [],
      "toc_visible": true,
      "include_colab_link": true
    },
    "kernelspec": {
      "display_name": "Python 3",
      "name": "python3"
    }
  },
  "cells": [
    {
      "cell_type": "markdown",
      "metadata": {
        "id": "view-in-github",
        "colab_type": "text"
      },
      "source": [
        "<a href=\"https://colab.research.google.com/github/DustyTarp/COMP-593/blob/main/WEEK_1_WELCOME_TO_COLAB.ipynb\" target=\"_parent\"><img src=\"https://colab.research.google.com/assets/colab-badge.svg\" alt=\"Open In Colab\"/></a>"
      ]
    },
    {
      "cell_type": "markdown",
      "metadata": {
        "id": "GJBs_flRovLc"
      },
      "source": [
        "## **Welcome to COMP 593!**\n",
        "\n",
        "For your first lab, we will experiment with running a script, and saving our project to our personal github repositories:"
      ]
    },
    {
      "cell_type": "markdown",
      "metadata": {
        "id": "xn279PBwVnDj"
      },
      "source": [
        "##Installing Dependancies##\n",
        "\n",
        "Dependancies are routines, Objects, and methods that a project requires. We add Dependancies to our project in the form of **Libraries** when we want to unlock functionality that already exists, this could be as simple as file IO or as complex as fully fledged Machine Learning libraries. Libraries can be added to our project manually, by downloading them and placing them in our runtime enviornment, or using a **Package Manager** such as PIP."
      ]
    },
    {
      "cell_type": "markdown",
      "metadata": {
        "id": "-IWb3REjW5T0"
      },
      "source": [
        "Run the below code to download the **pyfiglet** library, which we will use to generate some ASCII art."
      ]
    },
    {
      "cell_type": "code",
      "metadata": {
        "id": "ARUZhh6MS7nA",
        "colab": {
          "base_uri": "https://localhost:8080/"
        },
        "outputId": "b79c2539-efdb-4e6c-ad5b-2bec78601054"
      },
      "source": [
        "pip install pyfiglet\n"
      ],
      "execution_count": 1,
      "outputs": [
        {
          "output_type": "stream",
          "name": "stdout",
          "text": [
            "Collecting pyfiglet\n",
            "  Downloading pyfiglet-0.8.post1-py2.py3-none-any.whl (865 kB)\n",
            "\u001b[?25l\r\u001b[K     |▍                               | 10 kB 19.9 MB/s eta 0:00:01\r\u001b[K     |▊                               | 20 kB 19.4 MB/s eta 0:00:01\r\u001b[K     |█▏                              | 30 kB 11.7 MB/s eta 0:00:01\r\u001b[K     |█▌                              | 40 kB 9.4 MB/s eta 0:00:01\r\u001b[K     |██                              | 51 kB 7.5 MB/s eta 0:00:01\r\u001b[K     |██▎                             | 61 kB 7.3 MB/s eta 0:00:01\r\u001b[K     |██▋                             | 71 kB 7.3 MB/s eta 0:00:01\r\u001b[K     |███                             | 81 kB 8.1 MB/s eta 0:00:01\r\u001b[K     |███▍                            | 92 kB 7.8 MB/s eta 0:00:01\r\u001b[K     |███▉                            | 102 kB 6.8 MB/s eta 0:00:01\r\u001b[K     |████▏                           | 112 kB 6.8 MB/s eta 0:00:01\r\u001b[K     |████▌                           | 122 kB 6.8 MB/s eta 0:00:01\r\u001b[K     |█████                           | 133 kB 6.8 MB/s eta 0:00:01\r\u001b[K     |█████▎                          | 143 kB 6.8 MB/s eta 0:00:01\r\u001b[K     |█████▊                          | 153 kB 6.8 MB/s eta 0:00:01\r\u001b[K     |██████                          | 163 kB 6.8 MB/s eta 0:00:01\r\u001b[K     |██████▍                         | 174 kB 6.8 MB/s eta 0:00:01\r\u001b[K     |██████▉                         | 184 kB 6.8 MB/s eta 0:00:01\r\u001b[K     |███████▏                        | 194 kB 6.8 MB/s eta 0:00:01\r\u001b[K     |███████▋                        | 204 kB 6.8 MB/s eta 0:00:01\r\u001b[K     |████████                        | 215 kB 6.8 MB/s eta 0:00:01\r\u001b[K     |████████▎                       | 225 kB 6.8 MB/s eta 0:00:01\r\u001b[K     |████████▊                       | 235 kB 6.8 MB/s eta 0:00:01\r\u001b[K     |█████████                       | 245 kB 6.8 MB/s eta 0:00:01\r\u001b[K     |█████████▌                      | 256 kB 6.8 MB/s eta 0:00:01\r\u001b[K     |█████████▉                      | 266 kB 6.8 MB/s eta 0:00:01\r\u001b[K     |██████████▏                     | 276 kB 6.8 MB/s eta 0:00:01\r\u001b[K     |██████████▋                     | 286 kB 6.8 MB/s eta 0:00:01\r\u001b[K     |███████████                     | 296 kB 6.8 MB/s eta 0:00:01\r\u001b[K     |███████████▍                    | 307 kB 6.8 MB/s eta 0:00:01\r\u001b[K     |███████████▊                    | 317 kB 6.8 MB/s eta 0:00:01\r\u001b[K     |████████████                    | 327 kB 6.8 MB/s eta 0:00:01\r\u001b[K     |████████████▌                   | 337 kB 6.8 MB/s eta 0:00:01\r\u001b[K     |████████████▉                   | 348 kB 6.8 MB/s eta 0:00:01\r\u001b[K     |█████████████▎                  | 358 kB 6.8 MB/s eta 0:00:01\r\u001b[K     |█████████████▋                  | 368 kB 6.8 MB/s eta 0:00:01\r\u001b[K     |██████████████                  | 378 kB 6.8 MB/s eta 0:00:01\r\u001b[K     |██████████████▍                 | 389 kB 6.8 MB/s eta 0:00:01\r\u001b[K     |██████████████▊                 | 399 kB 6.8 MB/s eta 0:00:01\r\u001b[K     |███████████████▏                | 409 kB 6.8 MB/s eta 0:00:01\r\u001b[K     |███████████████▌                | 419 kB 6.8 MB/s eta 0:00:01\r\u001b[K     |████████████████                | 430 kB 6.8 MB/s eta 0:00:01\r\u001b[K     |████████████████▎               | 440 kB 6.8 MB/s eta 0:00:01\r\u001b[K     |████████████████▋               | 450 kB 6.8 MB/s eta 0:00:01\r\u001b[K     |█████████████████               | 460 kB 6.8 MB/s eta 0:00:01\r\u001b[K     |█████████████████▍              | 471 kB 6.8 MB/s eta 0:00:01\r\u001b[K     |█████████████████▉              | 481 kB 6.8 MB/s eta 0:00:01\r\u001b[K     |██████████████████▏             | 491 kB 6.8 MB/s eta 0:00:01\r\u001b[K     |██████████████████▌             | 501 kB 6.8 MB/s eta 0:00:01\r\u001b[K     |███████████████████             | 512 kB 6.8 MB/s eta 0:00:01\r\u001b[K     |███████████████████▎            | 522 kB 6.8 MB/s eta 0:00:01\r\u001b[K     |███████████████████▊            | 532 kB 6.8 MB/s eta 0:00:01\r\u001b[K     |████████████████████            | 542 kB 6.8 MB/s eta 0:00:01\r\u001b[K     |████████████████████▍           | 552 kB 6.8 MB/s eta 0:00:01\r\u001b[K     |████████████████████▉           | 563 kB 6.8 MB/s eta 0:00:01\r\u001b[K     |█████████████████████▏          | 573 kB 6.8 MB/s eta 0:00:01\r\u001b[K     |█████████████████████▋          | 583 kB 6.8 MB/s eta 0:00:01\r\u001b[K     |██████████████████████          | 593 kB 6.8 MB/s eta 0:00:01\r\u001b[K     |██████████████████████▎         | 604 kB 6.8 MB/s eta 0:00:01\r\u001b[K     |██████████████████████▊         | 614 kB 6.8 MB/s eta 0:00:01\r\u001b[K     |███████████████████████         | 624 kB 6.8 MB/s eta 0:00:01\r\u001b[K     |███████████████████████▌        | 634 kB 6.8 MB/s eta 0:00:01\r\u001b[K     |███████████████████████▉        | 645 kB 6.8 MB/s eta 0:00:01\r\u001b[K     |████████████████████████▏       | 655 kB 6.8 MB/s eta 0:00:01\r\u001b[K     |████████████████████████▋       | 665 kB 6.8 MB/s eta 0:00:01\r\u001b[K     |█████████████████████████       | 675 kB 6.8 MB/s eta 0:00:01\r\u001b[K     |█████████████████████████▍      | 686 kB 6.8 MB/s eta 0:00:01\r\u001b[K     |█████████████████████████▊      | 696 kB 6.8 MB/s eta 0:00:01\r\u001b[K     |██████████████████████████▏     | 706 kB 6.8 MB/s eta 0:00:01\r\u001b[K     |██████████████████████████▌     | 716 kB 6.8 MB/s eta 0:00:01\r\u001b[K     |██████████████████████████▉     | 727 kB 6.8 MB/s eta 0:00:01\r\u001b[K     |███████████████████████████▎    | 737 kB 6.8 MB/s eta 0:00:01\r\u001b[K     |███████████████████████████▋    | 747 kB 6.8 MB/s eta 0:00:01\r\u001b[K     |████████████████████████████    | 757 kB 6.8 MB/s eta 0:00:01\r\u001b[K     |████████████████████████████▍   | 768 kB 6.8 MB/s eta 0:00:01\r\u001b[K     |████████████████████████████▊   | 778 kB 6.8 MB/s eta 0:00:01\r\u001b[K     |█████████████████████████████▏  | 788 kB 6.8 MB/s eta 0:00:01\r\u001b[K     |█████████████████████████████▌  | 798 kB 6.8 MB/s eta 0:00:01\r\u001b[K     |██████████████████████████████  | 808 kB 6.8 MB/s eta 0:00:01\r\u001b[K     |██████████████████████████████▎ | 819 kB 6.8 MB/s eta 0:00:01\r\u001b[K     |██████████████████████████████▋ | 829 kB 6.8 MB/s eta 0:00:01\r\u001b[K     |███████████████████████████████ | 839 kB 6.8 MB/s eta 0:00:01\r\u001b[K     |███████████████████████████████▍| 849 kB 6.8 MB/s eta 0:00:01\r\u001b[K     |███████████████████████████████▉| 860 kB 6.8 MB/s eta 0:00:01\r\u001b[K     |████████████████████████████████| 865 kB 6.8 MB/s \n",
            "\u001b[?25hInstalling collected packages: pyfiglet\n",
            "Successfully installed pyfiglet-0.8.post1\n"
          ]
        }
      ]
    },
    {
      "cell_type": "markdown",
      "metadata": {
        "id": "SNXKhb5XXqF4"
      },
      "source": [
        "There are *hundreds of thousands* of python libraries at your disposal. Some may suit your needs better than others depending on the goals of your scripts or applications. The [PyPi Repository](https://pypi.org/) contains a serchable database of packages that are installable via the pip package manager.\n",
        "\n",
        "Run the code below to get an idea of the number of packages that are included for your user within Colab. You don't need to know what all of these do, but it should indicate that python is a very powerful language."
      ]
    },
    {
      "cell_type": "code",
      "metadata": {
        "id": "C7A8viiJXiDs"
      },
      "source": [
        "pip list"
      ],
      "execution_count": null,
      "outputs": []
    },
    {
      "cell_type": "markdown",
      "metadata": {
        "id": "zopYZ3PcY6hR"
      },
      "source": [
        "If you would like to see if pyfiglet was installed, you could scan the list above, or you could **pipe** the output of `pip list` to a console command known as `grep` that will filter for specific strings. This is an example of **redirecting output,** which you have learned about already.\n",
        "\n",
        "\n"
      ]
    },
    {
      "cell_type": "code",
      "metadata": {
        "id": "oAMcMjbLZMIE",
        "colab": {
          "base_uri": "https://localhost:8080/"
        },
        "outputId": "05313378-65ff-4e5a-c08f-66eb9bd61466"
      },
      "source": [
        "pip list | grep pyfiglet "
      ],
      "execution_count": 3,
      "outputs": [
        {
          "output_type": "stream",
          "name": "stdout",
          "text": [
            "pyfiglet                      0.8.post1\n"
          ]
        }
      ]
    },
    {
      "cell_type": "markdown",
      "metadata": {
        "id": "gt5dp771Yc2c"
      },
      "source": [
        "# Writing Our Script"
      ]
    },
    {
      "cell_type": "markdown",
      "metadata": {
        "id": "Hh36394HaB3g"
      },
      "source": [
        "The intention of this Colab introduction is to get you familiar with using google Colab to accomplish scripting goals. Today, we will be using the `pyfiglet` library we have just installed to output some text. To understand the methods available to us in `pyfiglet` we can look up [the github repository.](https://github.com/pwaller/pyfiglet)\n",
        "\n",
        "***Remember: Since open source packages are at the mercy of their developers or maintainers, comprehensive documentation is never a guarantee.***\n",
        "\n",
        "The help documentation outlines a command line `--help` argument, which means that documentation exists. We can't call command line arguments for imported libraries in colab, but we *can* accomplish the same goal in colab by using the python `help([Object])` function."
      ]
    },
    {
      "cell_type": "code",
      "metadata": {
        "id": "zR6mZpfkgRxd",
        "colab": {
          "base_uri": "https://localhost:8080/"
        },
        "outputId": "1a7139c4-11c6-470a-ea0b-c00840ccaa0d"
      },
      "source": [
        "from pyfiglet import Figlet\n",
        "\n",
        "help(Figlet)"
      ],
      "execution_count": 4,
      "outputs": [
        {
          "output_type": "stream",
          "name": "stdout",
          "text": [
            "Help on class Figlet in module pyfiglet:\n",
            "\n",
            "class Figlet(builtins.object)\n",
            " |  Figlet(font='standard', direction='auto', justify='auto', width=80)\n",
            " |  \n",
            " |  Main figlet class.\n",
            " |  \n",
            " |  Methods defined here:\n",
            " |  \n",
            " |  __init__(self, font='standard', direction='auto', justify='auto', width=80)\n",
            " |      Initialize self.  See help(type(self)) for accurate signature.\n",
            " |  \n",
            " |  getDirection(self)\n",
            " |  \n",
            " |  getFonts(self)\n",
            " |  \n",
            " |  getJustify(self)\n",
            " |  \n",
            " |  renderText(self, text)\n",
            " |  \n",
            " |  setFont(self, **kwargs)\n",
            " |  \n",
            " |  ----------------------------------------------------------------------\n",
            " |  Data descriptors defined here:\n",
            " |  \n",
            " |  __dict__\n",
            " |      dictionary for instance variables (if defined)\n",
            " |  \n",
            " |  __weakref__\n",
            " |      list of weak references to the object (if defined)\n",
            " |  \n",
            " |  direction\n",
            " |  \n",
            " |  justify\n",
            "\n"
          ]
        }
      ]
    },
    {
      "cell_type": "code",
      "source": [
        "from pyfiglet import Figlet\n",
        "f = Figlet(font='slant')\n",
        "print(f.renderText('Text to Render'))"
      ],
      "metadata": {
        "id": "KlRckmS4O3XQ",
        "outputId": "40172954-2450-45e4-aa99-97bc1118e929",
        "colab": {
          "base_uri": "https://localhost:8080/"
        }
      },
      "execution_count": 5,
      "outputs": [
        {
          "output_type": "stream",
          "name": "stdout",
          "text": [
            "  ______          __     __           ____                 __         \n",
            " /_  __/__  _  __/ /_   / /_____     / __ \\___  ____  ____/ /__  _____\n",
            "  / / / _ \\| |/_/ __/  / __/ __ \\   / /_/ / _ \\/ __ \\/ __  / _ \\/ ___/\n",
            " / / /  __/>  </ /_   / /_/ /_/ /  / _, _/  __/ / / / /_/ /  __/ /    \n",
            "/_/  \\___/_/|_|\\__/   \\__/\\____/  /_/ |_|\\___/_/ /_/\\__,_/\\___/_/     \n",
            "                                                                      \n",
            "\n"
          ]
        }
      ]
    },
    {
      "cell_type": "code",
      "source": [
        "from pyfiglet import Figlet\n",
        "f = Figlet(font='slant')\n",
        "print(f.getFonts())"
      ],
      "metadata": {
        "colab": {
          "base_uri": "https://localhost:8080/"
        },
        "id": "UdLSZDegPTJ9",
        "outputId": "02ce6199-9f26-49b6-db3c-ce7f3b1bc29d"
      },
      "execution_count": 7,
      "outputs": [
        {
          "output_type": "stream",
          "name": "stdout",
          "text": [
            "['maxfour', 'briteb', 'whimsy', 'usa_____', 'tav1____', 'future_7', 'eftipiti', 'gauntlet', 'small', 'smisome1', 'letterw3', 'atc_____', 'script', 'letters', 'char2___', 'contessa', 'space_op', 'assalt_m', 'top_duck', 'charact5', 'magic_ma', 'rev', 'funky_dr', 'caus_in_', 'rally_s2', 'roman', 'radical_', 'kik_star', 'mshebrew210', 'bigchief', 'green_be', 'fp1_____', 'barbwire', 'goofy', 'c2______', 'stealth_', 'battlesh', 'rally_sp', 'pebbles', 'future_4', 'univers', 'fp2_____', 'drpepper', 'pyramid', 'xsansb', 'cli8x8', 'ebbs_2__', 'courbi', 'sbooki', 'nancyj-underlined', 'grand_pr', 'rot13', 'helvi', 'alligator2', 'zig_zag_', 'term', 'tec_7000', 'yie-ar__', 'bubble_b', 'clr7x8', 'lean', 'ghost_bo', 'rastan__', 'subteran', 'home_pak', '5x7', 'fantasy_', 'sketch_s', 'tengwar', 'stencil2', 'smslant', 'demo_m__', 'npn_____', 'thick', 'graceful', 'timesofl', 'larry3d', 'stop', 'ascii___', 'xcouri', 'twin_cob', 'xbriteb', 'mcg_____', 'xsans', 'future_6', 'o8', 'tombstone', 'd_dragon', 'digital', 'hills___', 'basic', 'clr7x10', 'fbr12___', 'tanja', 'sansi', 'morse', 'charset_', 'stellar', 'future_2', 'double', 'char1___', 'eftichess', 'advenger', 'isometric2', 'nvscript', 'cybersmall', 'os2', 'rockbox_', 'acrobatic', 'phonix__', 'nancyj', 'standard', 'mayhem_d', 'xcourbi', '4x4_offr', 'rozzo', 'future_1', 'tiles', 'usa_pq__', 'xcour', 'high_noo', 'clb6x10', 'hollywood', 'octal', 'deep_str', '6x10', 'slant', 'future_3', 'big', 'crawford', 'fbr_tilt', 'twopoint', 'peaks', 'tsalagi', 'cosmic', 'triad_st', 'clr8x8', 'druid___', 'trek', 'avatar', 'xchartr', 'raw_recu', 'jazmine', 'utopiai', 'xhelvbi', 'coil_cop', 'xhelvi', 'computer', 'italic', 'doom', 'smscript', 'charact3', 'taxi____', 'jerusalem', 'kban', 'rainbow_', 'b_m__200', 'clb8x10', '5x8', 'defleppard', 'eca_____', 'c1______', 'lockergnome', 'eftirobot', 'ugalympi', 'master_o', 'lazy_jon', 'ttyb', 'clr6x6', 'nfi1____', 'platoon2', 'runic', 'f15_____', 'couri', 'type_set', 'clb8x8', 'utopia', 'etcrvs__', 'britebi', 'rad_phan', 'xbritei', 'diamond', 'cyberlarge', 'pod_____', 'xbritebi', 'spc_demo', 'dotmatrix', '64f1____', 'britei', 'p_s_h_m_', 'decimal', 'fbr_stri', 'weird', 'ntgreek', 'isometric1', 'odel_lak', 'new_asci', 'heavy_me', 'relief', 'charact2', 'devilish', 'banner3', 'characte', 'pawn_ins', 'fbr1____', 'star_war', 'ripper!_', 'xhelvb', 'rounded', 'roman___', 'tec1____', 'smshadow', 'pacos_pe', 'p_skateb', 'poison', 'r2-d2___', '6x9', 'z-pilot_', 'stacey', 'notie_ca', 'eftiwater', '1943____', 'gothic__', 'c_ascii_', 'xsbook', 'threepoint', 'sans', 'dwhistled', 'rci_____', 'mike', 'katakana', 'charact4', 'epic', 'xsansi', 'slide', 'fbr2____', 'yie_ar_k', 'tty', 'c_consen', 'sbookbi', 'madrid', 'rectangles', 'char3___', 'faces_of', 'binary', 'nancyj-fancy', 'clr4x6', 'tsm_____', 'starwars', 'xttyb', 'finalass', '3-d', 'sbookb', 'e__fist_', 'hades___', 'rampage_', 'sansb', 'aquaplan', 'charact1', 'tsn_base', 'clr6x10', 'beer_pub', 'mirror', 'stampatello', 'runyc', 'lexible_', 'pepper', 'zone7___', 'utopiabi', 'cricket', 'relief2', 'war_of_w', 'eftitalic', 'caligraphy', 'cour', 'tecrvs__', 'slscript', 'moscow', 'greek', 'stencil1', 'ok_beer_', 'xsbooki', 'battle_s', 'hypa_bal', 'serifcap', 'kgames_i', 'skate_ro', 'wavy', 'helvb', 'colossal', 'gothic', 'banner3-D', 'asc_____', 'courb', 'clr5x10', 'alligator', 'clr6x8', 'xhelv', 'alphabet', 'road_rai', 'xcourb', 'xtimes', 'marquee', 'chunky', 'thin', 'helv', 'shadow', 'shimrod', 'catwalk', 'mad_nurs', 'demo_1__', 'future_8', 'utopiab', 'letter_w', 'xbrite', 'block', 'ogre', 'asslt__m', 'ti_pan__', 'baz__bil', 'xchartri', 'script__', 'eftifont', 'gradient', 'nipples', 'smtengwar', 'super_te', 'eftiwall', 'hyper___', 'broadway', 'arrows', 'doh', 'platoon_', 'ticksslant', 'krak_out', 'tinker-toy', 'usaflag', 'convoy__', 'xsansbi', 'sm______', 'calgphy2', 'fairligh', 'bubble__', 'clr8x10', 'char4___', 'bell', 'helvbi', 'skateroc', 'graffiti', 'ebbs_1__', 'sansbi', 'clr5x8', 'vortron_', 'mnemonic', 'a_zooloo', 'bulbhead', 'dcs_bfmo', 'banner', 'speed', 'street_s', 'ticks', 'hex', 'demo_2__', '5lineoblique', 'pawp', 'fender', 'invita', 'cursive', 'skateord', 'charact6', 'inc_raw_', 'rok_____', 'ucf_fan_', 'fourtops', 'mig_ally', 'chartr', 'cosmike', 'contrast', 'modern__', 'tomahawk', 'trashman', 'house_of', 'panther_', 'com_sen_', 'atc_gran', 'rowancap', 'chartri', 'ts1_____', 'smkeyboard', 'ivrit', 'short', 't__of_ap', 'sbook', 'banner4', 'times', 'heroboti', 'fireing_', 'fair_mea', '3x5', 'fraktur', 'coinstak', 'fuzzy', 'outrun__', 'puffy', 'linux', 'flyn_sh', 'isometric4', 'xtty', 'xsbookb', 'italics_', 'lcd', 'xsbookbi', 'tubular', 'sblood', 'cybermedium', 'brite', 'future_5', 'unarmed_', 'clr5x6', 'isometric3', 'bubble', 'joust___', 'rad_____', 'mini', 'straight']\n"
          ]
        }
      ]
    },
    {
      "cell_type": "markdown",
      "metadata": {
        "id": "UxKlfQJrmq4N"
      },
      "source": [
        "Using this function we can see that the `Figlet` object has several methods available. This will bring us to your task:\n",
        "\n",
        "\n",
        "**In the editor below, finish a script that accomplishes the following goals:**\n",
        "\n",
        "1.   Prompt the user to select from a list of 5 fonts.\n",
        "2.   Prompt the user to input the string they would like output in that font.\n",
        "3.   Render the text using the selected font.\n",
        "\n",
        "*Hint:* Call the `getFonts()` method to get a list of the available fonts."
      ]
    },
    {
      "cell_type": "code",
      "metadata": {
        "id": "b2y8sufRoEpR",
        "colab": {
          "base_uri": "https://localhost:8080/"
        },
        "outputId": "408a5f5c-7133-4a21-c462-acad49c8902c"
      },
      "source": [
        "from pyfiglet import Figlet\n",
        "\n",
        "#Instantiate a Figlet Object\n",
        "figlet = Figlet()\n",
        "\n",
        "fonts = ['maxfour', 'briteb', 'whimsy', 'future_7', 'eftipiti']\n",
        "\n",
        "#Prompt the user to select a font\n",
        "selectedFont = int(input(\"Select a font: \\n 0. maxfour \\n 1. briteb \\n 2. whimsy \\n 3. future_7 \\n 4. eftipiti \"))\n",
        "\n",
        "#Prompt the user to type a message\n",
        "message = input(\"Enter a message to print:\")\n",
        "\n",
        "f = Figlet(font=fonts[selectedFont])\n",
        "print(f.renderText(message))"
      ],
      "execution_count": 32,
      "outputs": [
        {
          "output_type": "stream",
          "name": "stdout",
          "text": [
            "Select a font: \n",
            " 0. maxfour \n",
            " 1. briteb \n",
            " 2. whimsy \n",
            " 3. future_7 \n",
            " 4. eftipiti 0\n",
            "Enter a message to print:Darts\n",
            "|~~\\          |   \n",
            "|   |/~~||/~\\~|~(~\n",
            "|__/ \\__||    | _)\n",
            "                  \n",
            "\n"
          ]
        }
      ]
    },
    {
      "cell_type": "markdown",
      "metadata": {
        "id": "wXiyORkQqUfz"
      },
      "source": [
        "# Submitting your Script"
      ]
    },
    {
      "cell_type": "markdown",
      "metadata": {
        "id": "eUMXNhytqZY6"
      },
      "source": [
        "Once you have succesfully completed your script, make sure to save it to your github account. (Take a look [at the official colab instructions](https://colab.research.google.com/github/googlecolab/colabtools/blob/master/notebooks/colab-github-demo.ipynb) if you need a refresher.)"
      ]
    }
  ]
}